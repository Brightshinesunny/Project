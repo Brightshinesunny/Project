{
  "nbformat": 4,
  "nbformat_minor": 0,
  "metadata": {
    "colab": {
      "provenance": [],
      "toc_visible": true,
      "authorship_tag": "ABX9TyNbKLQHI6bKKINrg9dmsfNp",
      "include_colab_link": true
    },
    "kernelspec": {
      "name": "python3",
      "display_name": "Python 3"
    },
    "language_info": {
      "name": "python"
    }
  },
  "cells": [
    {
      "cell_type": "markdown",
      "metadata": {
        "id": "view-in-github",
        "colab_type": "text"
      },
      "source": [
        "<a href=\"https://colab.research.google.com/github/Brightshinesunny/Project/blob/Test/Untitled2.ipynb\" target=\"_parent\"><img src=\"https://colab.research.google.com/assets/colab-badge.svg\" alt=\"Open In Colab\"/></a>"
      ]
    },
    {
      "cell_type": "code",
      "execution_count": null,
      "metadata": {
        "colab": {
          "base_uri": "https://localhost:8080/"
        },
        "id": "3jCVeZlXhse3",
        "outputId": "fe6f59db-76af-49e2-e2c9-a7329472ab12"
      },
      "outputs": [
        {
          "output_type": "stream",
          "name": "stderr",
          "text": [
            "10:33 bilby INFO    : Running for label 'label', output will be saved to 'outdir'\n",
            "/usr/local/lib/python3.10/dist-packages/_distutils_hack/__init__.py:33: UserWarning: Setuptools is replacing distutils.\n",
            "  warnings.warn(\"Setuptools is replacing distutils.\")\n",
            "10:33 bilby INFO    : Analysis priors:\n",
            "10:33 bilby INFO    : m1=Uniform(minimum=4.9257e-06, maximum=1.4777100000000001e-05, name='m1', latex_label='m1', unit=None, boundary=None)\n",
            "10:33 bilby INFO    : m2=Uniform(minimum=4.9257e-06, maximum=1.4777100000000001e-05, name='m2', latex_label='m2', unit=None, boundary=None)\n",
            "10:33 bilby INFO    : LambdaTilde=Uniform(minimum=0, maximum=5000, name='LambdaTilde', latex_label='LambdaTilde', unit=None, boundary=None)\n",
            "10:33 bilby INFO    : deltaLambdaTilde=Uniform(minimum=0, maximum=5000, name='deltaLambdaTilde', latex_label='deltaLambdaTilde', unit=None, boundary=None)\n",
            "10:33 bilby INFO    : Analysis likelihood class: <class '__main__.Likelihood'>\n",
            "10:33 bilby INFO    : Analysis likelihood noise evidence: nan\n",
            "<ipython-input-10-79da798b6343>:59: RuntimeWarning: divide by zero encountered in power\n",
            "  A_SPA = frequency**(-7/6) * np.exp(1j * Psi)\n",
            "10:33 bilby INFO    : Single likelihood evaluation took nan s\n",
            "10:33 bilby INFO    : Using sampler Dynesty with kwargs {'nlive': 500, 'bound': 'live', 'sample': 'act-walk', 'periodic': None, 'reflective': None, 'update_interval': 600, 'first_update': None, 'npdim': None, 'rstate': None, 'queue_size': 1, 'pool': None, 'use_pool': None, 'live_points': None, 'logl_args': None, 'logl_kwargs': None, 'ptform_args': None, 'ptform_kwargs': None, 'gradient': None, 'grad_args': None, 'grad_kwargs': None, 'compute_jac': False, 'enlarge': None, 'bootstrap': None, 'walks': 100, 'facc': 0.2, 'slices': None, 'fmove': 0.9, 'max_move': 100, 'update_func': None, 'ncdim': None, 'blob': False, 'save_history': False, 'history_filename': None, 'maxiter': None, 'maxcall': None, 'dlogz': 0.1, 'logl_max': inf, 'n_effective': None, 'add_live': True, 'print_progress': True, 'print_func': <bound method Dynesty._print_func of <bilby.core.sampler.dynesty.Dynesty object at 0x7ccb50482890>>, 'save_bounds': False, 'checkpoint_file': None, 'checkpoint_every': 60, 'resume': False, 'seed': None}\n",
            "10:33 bilby INFO    : Checkpoint every check_point_delta_t = 600s\n",
            "10:33 bilby INFO    : Using dynesty version 2.1.4\n",
            "10:33 bilby INFO    : Using the bilby-implemented act-walk sampling tracking the autocorrelation function and thinning by 2 with maximum length 10000\n",
            "10:33 bilby INFO    : Resume file outdir/label_resume.pickle does not exist.\n",
            "10:33 bilby INFO    : Generating initial points from the prior\n"
          ]
        }
      ],
      "source": [
        "import numpy as np\n",
        "import bilby\n",
        "import matplotlib.pyplot as plt\n",
        "\n",
        "# Define constants\n",
        "solarmass = 4.9257e-6  # G M_sun / c^3 in seconds\n",
        "megaparsec = 1.0293e14  # Mpc / c in seconds\n",
        "year = 31536000  # seconds in a year\n",
        "\n",
        "# Given parameters\n",
        "m1 = 2 * solarmass\n",
        "m2 = solarmass\n",
        "LambdaTilde = 14.7\n",
        "deltaLambdaTilde = 1744\n",
        "SNR = 17\n",
        "fmin = 20\n",
        "\n",
        "# Derived parameters\n",
        "M = m1 + m2\n",
        "eta = m1 * m2 / M**2\n",
        "Mc = M * eta**(3/5)\n",
        "v = (np.pi * M * fmin)**(1/3)\n",
        "\n",
        "# Load frequency series and PSD data\n",
        "fseries = np.loadtxt('fseries.dat')\n",
        "ALIGOpsd = np.loadtxt('ALIGOpsd.dat')\n",
        "\n",
        "# Reshape if necessary\n",
        "if fseries.ndim == 1:\n",
        "    fseries = np.expand_dims(fseries, axis=1)\n",
        "if ALIGOpsd.ndim == 1:\n",
        "    ALIGOpsd = np.reshape(ALIGOpsd, (-1, 2))  # Assuming ALIGOpsd should have two columns\n",
        "\n",
        "# Interpolate the PSD\n",
        "AdvLIGOPSD2 = np.interp(fseries[:, 0], ALIGOpsd[:, 0], ALIGOpsd[:, 1])\n",
        "\n",
        "# Define the Tidal Phase Correction\n",
        "def tidal_phase(frequency, eta, v, LambdaTilde, deltaLambdaTilde):\n",
        "    tidal_correction = - (39 * LambdaTilde / 2) * v**10\n",
        "    tidal_correction += - ((3115 * LambdaTilde / 64) - (6595 * np.sqrt(1 - 4 * eta) * deltaLambdaTilde / 364)) * v**12\n",
        "    return tidal_correction\n",
        "\n",
        "# Update the SPA Phase Equation\n",
        "def spa_phase(frequency, m1, m2, eta, v, LambdaTilde, deltaLambdaTilde):\n",
        "    Psi_0 = 0  # Placeholder for phase constant\n",
        "    tc = 0  # Time of coalescence\n",
        "    phase = 2 * np.pi * frequency * tc\n",
        "    phase += 3 / (128 * eta * v**5) * (\n",
        "        1 + (3715 / 756 + 55 / 9 * eta) * v**2\n",
        "        + (9275495 / 81285136 + 2848751 / 3696 * eta + 1852 / 7 * eta**2) * v**4\n",
        "    )\n",
        "    # Add tidal phase correction\n",
        "    phase += tidal_phase(frequency, eta, v, LambdaTilde, deltaLambdaTilde)\n",
        "    return phase\n",
        "\n",
        "# Define the waveform model\n",
        "def waveform_model(frequency, m1, m2, LambdaTilde, deltaLambdaTilde, eta, v):\n",
        "    Psi = spa_phase(frequency, m1, m2, eta, v, LambdaTilde, deltaLambdaTilde)\n",
        "    A_SPA = frequency**(-7/6) * np.exp(1j * Psi)\n",
        "    return A_SPA\n",
        "\n",
        "# Define the likelihood function as a Bilby class\n",
        "class Likelihood(bilby.Likelihood):\n",
        "    def __init__(self, data):\n",
        "        self.data = data\n",
        "        super().__init__(parameters={'m1': None, 'm2': None, 'LambdaTilde': None, 'deltaLambdaTilde': None})\n",
        "\n",
        "    def log_likelihood(self):\n",
        "        frequency = self.data['frequency']\n",
        "        psd = self.data['psd']\n",
        "        eta = self.parameters['m1'] * self.parameters['m2'] / (self.parameters['m1'] + self.parameters['m2'])**2\n",
        "        Mc = (self.parameters['m1'] + self.parameters['m2']) * eta**(3/5)\n",
        "        v = (np.pi * (self.parameters['m1'] + self.parameters['m2']) * fmin)**(1/3)\n",
        "        h_tilde = waveform_model(frequency, self.parameters['m1'], self.parameters['m2'],\n",
        "                                self.parameters['LambdaTilde'], self.parameters['deltaLambdaTilde'],\n",
        "                                eta, v)\n",
        "        return -0.5 * np.sum(np.abs(self.data['strain'] - h_tilde)**2 / psd)\n",
        "\n",
        "# Define priors\n",
        "priors = {\n",
        "    'm1': bilby.core.prior.Uniform(1 * solarmass, 3 * solarmass, name='m1'),\n",
        "    'm2': bilby.core.prior.Uniform(1 * solarmass, 3 * solarmass, name='m2'),\n",
        "    'LambdaTilde': bilby.core.prior.Uniform(0, 5000, name='LambdaTilde'),\n",
        "    'deltaLambdaTilde': bilby.core.prior.Uniform(0, 5000, name='deltaLambdaTilde'),\n",
        "}\n",
        "\n",
        "# Prepare data dictionary for bilby\n",
        "data = {\n",
        "    'frequency': fseries[:, 0],\n",
        "    'psd': AdvLIGOPSD2,\n",
        "    'strain': np.zeros_like(fseries[:, 0])  # Placeholder for actual strain data\n",
        "}\n",
        "\n",
        "# Initialize the likelihood object\n",
        "likelihood = Likelihood(data)\n",
        "\n",
        "# Run the Bayesian inference\n",
        "result = bilby.run_sampler(\n",
        "    likelihood=likelihood,  # Use the likelihood object\n",
        "    priors=priors,\n",
        "    sampler='dynesty',\n",
        "    nlive=500\n",
        ")\n",
        "\n",
        "# Generate and display the corner plot of the posterior distributions\n",
        "result.plot_corner()\n",
        "plt.show()\n",
        "\n",
        "# Print a summary of the results\n",
        "print(result.summary())\n",
        "\n",
        "# Generate 1D marginalized posterior PDFs\n",
        "for param in priors.keys():\n",
        "    plt.figure()\n",
        "    plt.hist(result.posterior[param], bins=50, density=True)\n",
        "    plt.title(f'Marginalized Posterior PDF of {param}')\n",
        "    plt.xlabel(param)\n",
        "    plt.ylabel('Probability Density')\n",
        "    plt.show()\n",
        "\n",
        "# 2D confidence intervals (e.g., for m1 and m2)\n",
        "plt.figure()\n",
        "plt.hist2d(result.posterior['m1'], result.posterior['m2'], bins=50, cmap='Blues')\n",
        "plt.colorbar(label='Density')\n",
        "plt.xlabel('m1')\n",
        "plt.ylabel('m2')\n",
        "plt.title('2D Confidence Intervals of m1 and m2')\n",
        "plt.show()\n"
      ]
    },
    {
      "cell_type": "code",
      "source": [
        "pip install matplotlib-venn"
      ],
      "metadata": {
        "colab": {
          "base_uri": "https://localhost:8080/"
        },
        "id": "bJBITpb1i15c",
        "outputId": "65f75667-c08a-4026-bb1b-d1db8ad8ee5b"
      },
      "execution_count": 3,
      "outputs": [
        {
          "output_type": "stream",
          "name": "stdout",
          "text": [
            "Requirement already satisfied: matplotlib-venn in /usr/local/lib/python3.10/dist-packages (0.11.10)\n",
            "Requirement already satisfied: matplotlib in /usr/local/lib/python3.10/dist-packages (from matplotlib-venn) (3.7.1)\n",
            "Requirement already satisfied: numpy in /usr/local/lib/python3.10/dist-packages (from matplotlib-venn) (1.25.2)\n",
            "Requirement already satisfied: scipy in /usr/local/lib/python3.10/dist-packages (from matplotlib-venn) (1.11.4)\n",
            "Requirement already satisfied: contourpy>=1.0.1 in /usr/local/lib/python3.10/dist-packages (from matplotlib->matplotlib-venn) (1.2.1)\n",
            "Requirement already satisfied: cycler>=0.10 in /usr/local/lib/python3.10/dist-packages (from matplotlib->matplotlib-venn) (0.12.1)\n",
            "Requirement already satisfied: fonttools>=4.22.0 in /usr/local/lib/python3.10/dist-packages (from matplotlib->matplotlib-venn) (4.53.1)\n",
            "Requirement already satisfied: kiwisolver>=1.0.1 in /usr/local/lib/python3.10/dist-packages (from matplotlib->matplotlib-venn) (1.4.5)\n",
            "Requirement already satisfied: packaging>=20.0 in /usr/local/lib/python3.10/dist-packages (from matplotlib->matplotlib-venn) (24.1)\n",
            "Requirement already satisfied: pillow>=6.2.0 in /usr/local/lib/python3.10/dist-packages (from matplotlib->matplotlib-venn) (9.4.0)\n",
            "Requirement already satisfied: pyparsing>=2.3.1 in /usr/local/lib/python3.10/dist-packages (from matplotlib->matplotlib-venn) (3.1.2)\n",
            "Requirement already satisfied: python-dateutil>=2.7 in /usr/local/lib/python3.10/dist-packages (from matplotlib->matplotlib-venn) (2.8.2)\n",
            "Requirement already satisfied: six>=1.5 in /usr/local/lib/python3.10/dist-packages (from python-dateutil>=2.7->matplotlib->matplotlib-venn) (1.16.0)\n"
          ]
        }
      ]
    },
    {
      "cell_type": "code",
      "source": [
        "pip install -U libarchive"
      ],
      "metadata": {
        "colab": {
          "base_uri": "https://localhost:8080/"
        },
        "id": "NK8WLwYvi2DY",
        "outputId": "d1eba8a4-5f51-4a48-ddf9-6a75e0cf05c9"
      },
      "execution_count": 4,
      "outputs": [
        {
          "output_type": "stream",
          "name": "stdout",
          "text": [
            "Collecting libarchive\n",
            "  Downloading libarchive-0.4.7.tar.gz (23 kB)\n",
            "  Preparing metadata (setup.py) ... \u001b[?25l\u001b[?25hdone\n",
            "Collecting nose (from libarchive)\n",
            "  Downloading nose-1.3.7-py3-none-any.whl (154 kB)\n",
            "\u001b[2K     \u001b[90m━━━━━━━━━━━━━━━━━━━━━━━━━━━━━━━━━━━━━━━━\u001b[0m \u001b[32m154.7/154.7 kB\u001b[0m \u001b[31m7.3 MB/s\u001b[0m eta \u001b[36m0:00:00\u001b[0m\n",
            "\u001b[?25hBuilding wheels for collected packages: libarchive\n",
            "  \u001b[1;31merror\u001b[0m: \u001b[1msubprocess-exited-with-error\u001b[0m\n",
            "  \n",
            "  \u001b[31m×\u001b[0m \u001b[32mpython setup.py bdist_wheel\u001b[0m did not run successfully.\n",
            "  \u001b[31m│\u001b[0m exit code: \u001b[1;36m1\u001b[0m\n",
            "  \u001b[31m╰─>\u001b[0m See above for output.\n",
            "  \n",
            "  \u001b[1;35mnote\u001b[0m: This error originates from a subprocess, and is likely not a problem with pip.\n",
            "  Building wheel for libarchive (setup.py) ... \u001b[?25lerror\n",
            "\u001b[31m  ERROR: Failed building wheel for libarchive\u001b[0m\u001b[31m\n",
            "\u001b[0m\u001b[?25h  Running setup.py clean for libarchive\n",
            "Failed to build libarchive\n",
            "\u001b[31mERROR: Could not build wheels for libarchive, which is required to install pyproject.toml-based projects\u001b[0m\u001b[31m\n",
            "\u001b[0m"
          ]
        }
      ]
    },
    {
      "cell_type": "code",
      "source": [
        "pip install pydot"
      ],
      "metadata": {
        "colab": {
          "base_uri": "https://localhost:8080/"
        },
        "id": "bWTFoP8fi2Gc",
        "outputId": "5e4c0856-5aca-4409-ea8b-906230384bb1"
      },
      "execution_count": 5,
      "outputs": [
        {
          "output_type": "stream",
          "name": "stdout",
          "text": [
            "Requirement already satisfied: pydot in /usr/local/lib/python3.10/dist-packages (1.4.2)\n",
            "Requirement already satisfied: pyparsing>=2.1.4 in /usr/local/lib/python3.10/dist-packages (from pydot) (3.1.2)\n"
          ]
        }
      ]
    },
    {
      "cell_type": "code",
      "source": [
        "pip install cartopy"
      ],
      "metadata": {
        "colab": {
          "base_uri": "https://localhost:8080/"
        },
        "id": "_Wvv8jg4i2J9",
        "outputId": "ef4642e6-aee6-4841-feca-f6f881fcf248"
      },
      "execution_count": 6,
      "outputs": [
        {
          "output_type": "stream",
          "name": "stdout",
          "text": [
            "Collecting cartopy\n",
            "  Downloading Cartopy-0.23.0-cp310-cp310-manylinux_2_17_x86_64.manylinux2014_x86_64.whl (11.6 MB)\n",
            "\u001b[2K     \u001b[90m━━━━━━━━━━━━━━━━━━━━━━━━━━━━━━━━━━━━━━━━\u001b[0m \u001b[32m11.6/11.6 MB\u001b[0m \u001b[31m26.6 MB/s\u001b[0m eta \u001b[36m0:00:00\u001b[0m\n",
            "\u001b[?25hRequirement already satisfied: numpy>=1.21 in /usr/local/lib/python3.10/dist-packages (from cartopy) (1.25.2)\n",
            "Requirement already satisfied: matplotlib>=3.5 in /usr/local/lib/python3.10/dist-packages (from cartopy) (3.7.1)\n",
            "Requirement already satisfied: shapely>=1.7 in /usr/local/lib/python3.10/dist-packages (from cartopy) (2.0.5)\n",
            "Requirement already satisfied: packaging>=20 in /usr/local/lib/python3.10/dist-packages (from cartopy) (24.1)\n",
            "Requirement already satisfied: pyshp>=2.3 in /usr/local/lib/python3.10/dist-packages (from cartopy) (2.3.1)\n",
            "Requirement already satisfied: pyproj>=3.3.1 in /usr/local/lib/python3.10/dist-packages (from cartopy) (3.6.1)\n",
            "Requirement already satisfied: contourpy>=1.0.1 in /usr/local/lib/python3.10/dist-packages (from matplotlib>=3.5->cartopy) (1.2.1)\n",
            "Requirement already satisfied: cycler>=0.10 in /usr/local/lib/python3.10/dist-packages (from matplotlib>=3.5->cartopy) (0.12.1)\n",
            "Requirement already satisfied: fonttools>=4.22.0 in /usr/local/lib/python3.10/dist-packages (from matplotlib>=3.5->cartopy) (4.53.1)\n",
            "Requirement already satisfied: kiwisolver>=1.0.1 in /usr/local/lib/python3.10/dist-packages (from matplotlib>=3.5->cartopy) (1.4.5)\n",
            "Requirement already satisfied: pillow>=6.2.0 in /usr/local/lib/python3.10/dist-packages (from matplotlib>=3.5->cartopy) (9.4.0)\n",
            "Requirement already satisfied: pyparsing>=2.3.1 in /usr/local/lib/python3.10/dist-packages (from matplotlib>=3.5->cartopy) (3.1.2)\n",
            "Requirement already satisfied: python-dateutil>=2.7 in /usr/local/lib/python3.10/dist-packages (from matplotlib>=3.5->cartopy) (2.8.2)\n",
            "Requirement already satisfied: certifi in /usr/local/lib/python3.10/dist-packages (from pyproj>=3.3.1->cartopy) (2024.7.4)\n",
            "Requirement already satisfied: six>=1.5 in /usr/local/lib/python3.10/dist-packages (from python-dateutil>=2.7->matplotlib>=3.5->cartopy) (1.16.0)\n",
            "Installing collected packages: cartopy\n",
            "Successfully installed cartopy-0.23.0\n"
          ]
        }
      ]
    },
    {
      "cell_type": "code",
      "source": [
        "pip install bilby"
      ],
      "metadata": {
        "colab": {
          "base_uri": "https://localhost:8080/"
        },
        "id": "O8H787G2i2OR",
        "outputId": "bf098bf6-8038-47c9-9969-bb3efe36d9a7"
      },
      "execution_count": 7,
      "outputs": [
        {
          "output_type": "stream",
          "name": "stdout",
          "text": [
            "Collecting bilby\n",
            "  Downloading bilby-2.3.0-py3-none-any.whl (2.3 MB)\n",
            "\u001b[2K     \u001b[90m━━━━━━━━━━━━━━━━━━━━━━━━━━━━━━━━━━━━━━━━\u001b[0m \u001b[32m2.3/2.3 MB\u001b[0m \u001b[31m16.3 MB/s\u001b[0m eta \u001b[36m0:00:00\u001b[0m\n",
            "\u001b[?25hCollecting bilby.cython>=0.3.0 (from bilby)\n",
            "  Downloading bilby.cython-0.5.2-cp310-cp310-manylinux_2_17_x86_64.manylinux2014_x86_64.whl (1.3 MB)\n",
            "\u001b[2K     \u001b[90m━━━━━━━━━━━━━━━━━━━━━━━━━━━━━━━━━━━━━━━━\u001b[0m \u001b[32m1.3/1.3 MB\u001b[0m \u001b[31m18.8 MB/s\u001b[0m eta \u001b[36m0:00:00\u001b[0m\n",
            "\u001b[?25hCollecting dynesty>=2.0.1 (from bilby)\n",
            "  Downloading dynesty-2.1.4-py2.py3-none-any.whl (108 kB)\n",
            "\u001b[2K     \u001b[90m━━━━━━━━━━━━━━━━━━━━━━━━━━━━━━━━━━━━━━━━\u001b[0m \u001b[32m108.1/108.1 kB\u001b[0m \u001b[31m9.4 MB/s\u001b[0m eta \u001b[36m0:00:00\u001b[0m\n",
            "\u001b[?25hCollecting emcee (from bilby)\n",
            "  Downloading emcee-3.1.6-py2.py3-none-any.whl (47 kB)\n",
            "\u001b[2K     \u001b[90m━━━━━━━━━━━━━━━━━━━━━━━━━━━━━━━━━━━━━━━━\u001b[0m \u001b[32m47.4/47.4 kB\u001b[0m \u001b[31m5.6 MB/s\u001b[0m eta \u001b[36m0:00:00\u001b[0m\n",
            "\u001b[?25hCollecting corner (from bilby)\n",
            "  Downloading corner-2.2.2-py3-none-any.whl (15 kB)\n",
            "Requirement already satisfied: numpy in /usr/local/lib/python3.10/dist-packages (from bilby) (1.25.2)\n",
            "Requirement already satisfied: matplotlib in /usr/local/lib/python3.10/dist-packages (from bilby) (3.7.1)\n",
            "Requirement already satisfied: scipy>=1.5 in /usr/local/lib/python3.10/dist-packages (from bilby) (1.11.4)\n",
            "Requirement already satisfied: pandas in /usr/local/lib/python3.10/dist-packages (from bilby) (2.0.3)\n",
            "Collecting dill (from bilby)\n",
            "  Downloading dill-0.3.8-py3-none-any.whl (116 kB)\n",
            "\u001b[2K     \u001b[90m━━━━━━━━━━━━━━━━━━━━━━━━━━━━━━━━━━━━━━━━\u001b[0m \u001b[32m116.3/116.3 kB\u001b[0m \u001b[31m9.4 MB/s\u001b[0m eta \u001b[36m0:00:00\u001b[0m\n",
            "\u001b[?25hRequirement already satisfied: tqdm in /usr/local/lib/python3.10/dist-packages (from bilby) (4.66.4)\n",
            "Requirement already satisfied: h5py in /usr/local/lib/python3.10/dist-packages (from bilby) (3.9.0)\n",
            "Requirement already satisfied: attrs in /usr/local/lib/python3.10/dist-packages (from bilby) (23.2.0)\n",
            "Requirement already satisfied: contourpy>=1.0.1 in /usr/local/lib/python3.10/dist-packages (from matplotlib->bilby) (1.2.1)\n",
            "Requirement already satisfied: cycler>=0.10 in /usr/local/lib/python3.10/dist-packages (from matplotlib->bilby) (0.12.1)\n",
            "Requirement already satisfied: fonttools>=4.22.0 in /usr/local/lib/python3.10/dist-packages (from matplotlib->bilby) (4.53.1)\n",
            "Requirement already satisfied: kiwisolver>=1.0.1 in /usr/local/lib/python3.10/dist-packages (from matplotlib->bilby) (1.4.5)\n",
            "Requirement already satisfied: packaging>=20.0 in /usr/local/lib/python3.10/dist-packages (from matplotlib->bilby) (24.1)\n",
            "Requirement already satisfied: pillow>=6.2.0 in /usr/local/lib/python3.10/dist-packages (from matplotlib->bilby) (9.4.0)\n",
            "Requirement already satisfied: pyparsing>=2.3.1 in /usr/local/lib/python3.10/dist-packages (from matplotlib->bilby) (3.1.2)\n",
            "Requirement already satisfied: python-dateutil>=2.7 in /usr/local/lib/python3.10/dist-packages (from matplotlib->bilby) (2.8.2)\n",
            "Requirement already satisfied: pytz>=2020.1 in /usr/local/lib/python3.10/dist-packages (from pandas->bilby) (2023.4)\n",
            "Requirement already satisfied: tzdata>=2022.1 in /usr/local/lib/python3.10/dist-packages (from pandas->bilby) (2024.1)\n",
            "Requirement already satisfied: six>=1.5 in /usr/local/lib/python3.10/dist-packages (from python-dateutil>=2.7->matplotlib->bilby) (1.16.0)\n",
            "Installing collected packages: dynesty, emcee, dill, bilby.cython, corner, bilby\n",
            "Successfully installed bilby-2.3.0 bilby.cython-0.5.2 corner-2.2.2 dill-0.3.8 dynesty-2.1.4 emcee-3.1.6\n"
          ]
        }
      ]
    },
    {
      "cell_type": "code",
      "source": [
        "pip install gwpy lalsuite"
      ],
      "metadata": {
        "colab": {
          "base_uri": "https://localhost:8080/"
        },
        "id": "1Pnr_8-9i2SK",
        "outputId": "ff25a393-9751-4275-950d-4fe6d993b335"
      },
      "execution_count": 8,
      "outputs": [
        {
          "output_type": "stream",
          "name": "stdout",
          "text": [
            "Collecting gwpy\n",
            "  Downloading gwpy-3.0.9-py3-none-any.whl (1.4 MB)\n",
            "\u001b[2K     \u001b[90m━━━━━━━━━━━━━━━━━━━━━━━━━━━━━━━━━━━━━━━━\u001b[0m \u001b[32m1.4/1.4 MB\u001b[0m \u001b[31m9.2 MB/s\u001b[0m eta \u001b[36m0:00:00\u001b[0m\n",
            "\u001b[?25hCollecting lalsuite\n",
            "  Downloading lalsuite-7.22-cp310-cp310-manylinux_2_28_x86_64.whl (43.1 MB)\n",
            "\u001b[2K     \u001b[90m━━━━━━━━━━━━━━━━━━━━━━━━━━━━━━━━━━━━━━━━\u001b[0m \u001b[32m43.1/43.1 MB\u001b[0m \u001b[31m16.3 MB/s\u001b[0m eta \u001b[36m0:00:00\u001b[0m\n",
            "\u001b[?25hRequirement already satisfied: astropy>=4.3.0 in /usr/local/lib/python3.10/dist-packages (from gwpy) (5.3.4)\n",
            "Collecting dateparser>=1.1.4 (from gwpy)\n",
            "  Downloading dateparser-1.2.0-py2.py3-none-any.whl (294 kB)\n",
            "\u001b[2K     \u001b[90m━━━━━━━━━━━━━━━━━━━━━━━━━━━━━━━━━━━━━━━━\u001b[0m \u001b[32m295.0/295.0 kB\u001b[0m \u001b[31m19.1 MB/s\u001b[0m eta \u001b[36m0:00:00\u001b[0m\n",
            "\u001b[?25hCollecting dqsegdb2 (from gwpy)\n",
            "  Downloading dqsegdb2-1.2.1-py3-none-any.whl (25 kB)\n",
            "Collecting gwdatafind>=1.1.0 (from gwpy)\n",
            "  Downloading gwdatafind-1.2.0-py3-none-any.whl (45 kB)\n",
            "\u001b[2K     \u001b[90m━━━━━━━━━━━━━━━━━━━━━━━━━━━━━━━━━━━━━━━━\u001b[0m \u001b[32m45.5/45.5 kB\u001b[0m \u001b[31m4.6 MB/s\u001b[0m eta \u001b[36m0:00:00\u001b[0m\n",
            "\u001b[?25hCollecting gwosc>=0.5.3 (from gwpy)\n",
            "  Downloading gwosc-0.7.1-py3-none-any.whl (27 kB)\n",
            "Requirement already satisfied: h5py>=3.0.0 in /usr/local/lib/python3.10/dist-packages (from gwpy) (3.9.0)\n",
            "Collecting ligo-segments>=1.0.0 (from gwpy)\n",
            "  Downloading ligo-segments-1.4.0.tar.gz (51 kB)\n",
            "\u001b[2K     \u001b[90m━━━━━━━━━━━━━━━━━━━━━━━━━━━━━━━━━━━━━━━━\u001b[0m \u001b[32m51.0/51.0 kB\u001b[0m \u001b[31m4.6 MB/s\u001b[0m eta \u001b[36m0:00:00\u001b[0m\n",
            "\u001b[?25h  Preparing metadata (setup.py) ... \u001b[?25l\u001b[?25hdone\n",
            "Collecting ligotimegps>=1.2.1 (from gwpy)\n",
            "  Downloading ligotimegps-2.0.1-py2.py3-none-any.whl (19 kB)\n",
            "Requirement already satisfied: matplotlib>=3.3.0 in /usr/local/lib/python3.10/dist-packages (from gwpy) (3.7.1)\n",
            "Requirement already satisfied: numpy>=1.19 in /usr/local/lib/python3.10/dist-packages (from gwpy) (1.25.2)\n",
            "Requirement already satisfied: python-dateutil in /usr/local/lib/python3.10/dist-packages (from gwpy) (2.8.2)\n",
            "Requirement already satisfied: requests in /usr/local/lib/python3.10/dist-packages (from gwpy) (2.31.0)\n",
            "Requirement already satisfied: scipy>=1.6.0 in /usr/local/lib/python3.10/dist-packages (from gwpy) (1.11.4)\n",
            "Requirement already satisfied: tqdm>=4.10.0 in /usr/local/lib/python3.10/dist-packages (from gwpy) (4.66.4)\n",
            "Collecting lscsoft-glue (from lalsuite)\n",
            "  Downloading lscsoft_glue-4.0.0-py3-none-any.whl (46 kB)\n",
            "\u001b[2K     \u001b[90m━━━━━━━━━━━━━━━━━━━━━━━━━━━━━━━━━━━━━━━━\u001b[0m \u001b[32m46.5/46.5 kB\u001b[0m \u001b[31m4.4 MB/s\u001b[0m eta \u001b[36m0:00:00\u001b[0m\n",
            "\u001b[?25hRequirement already satisfied: pyerfa>=2.0 in /usr/local/lib/python3.10/dist-packages (from astropy>=4.3.0->gwpy) (2.0.1.4)\n",
            "Requirement already satisfied: PyYAML>=3.13 in /usr/local/lib/python3.10/dist-packages (from astropy>=4.3.0->gwpy) (6.0.1)\n",
            "Requirement already satisfied: packaging>=19.0 in /usr/local/lib/python3.10/dist-packages (from astropy>=4.3.0->gwpy) (24.1)\n",
            "Requirement already satisfied: pytz in /usr/local/lib/python3.10/dist-packages (from dateparser>=1.1.4->gwpy) (2023.4)\n",
            "Requirement already satisfied: regex!=2019.02.19,!=2021.8.27 in /usr/local/lib/python3.10/dist-packages (from dateparser>=1.1.4->gwpy) (2024.5.15)\n",
            "Requirement already satisfied: tzlocal in /usr/local/lib/python3.10/dist-packages (from dateparser>=1.1.4->gwpy) (5.2)\n",
            "Collecting igwn-auth-utils>=0.3.1 (from gwdatafind>=1.1.0->gwpy)\n",
            "  Downloading igwn_auth_utils-1.1.0-py3-none-any.whl (26 kB)\n",
            "Requirement already satisfied: six in /usr/local/lib/python3.10/dist-packages (from ligo-segments>=1.0.0->gwpy) (1.16.0)\n",
            "Requirement already satisfied: contourpy>=1.0.1 in /usr/local/lib/python3.10/dist-packages (from matplotlib>=3.3.0->gwpy) (1.2.1)\n",
            "Requirement already satisfied: cycler>=0.10 in /usr/local/lib/python3.10/dist-packages (from matplotlib>=3.3.0->gwpy) (0.12.1)\n",
            "Requirement already satisfied: fonttools>=4.22.0 in /usr/local/lib/python3.10/dist-packages (from matplotlib>=3.3.0->gwpy) (4.53.1)\n",
            "Requirement already satisfied: kiwisolver>=1.0.1 in /usr/local/lib/python3.10/dist-packages (from matplotlib>=3.3.0->gwpy) (1.4.5)\n",
            "Requirement already satisfied: pillow>=6.2.0 in /usr/local/lib/python3.10/dist-packages (from matplotlib>=3.3.0->gwpy) (9.4.0)\n",
            "Requirement already satisfied: pyparsing>=2.3.1 in /usr/local/lib/python3.10/dist-packages (from matplotlib>=3.3.0->gwpy) (3.1.2)\n",
            "Requirement already satisfied: charset-normalizer<4,>=2 in /usr/local/lib/python3.10/dist-packages (from requests->gwpy) (3.3.2)\n",
            "Requirement already satisfied: idna<4,>=2.5 in /usr/local/lib/python3.10/dist-packages (from requests->gwpy) (3.7)\n",
            "Requirement already satisfied: urllib3<3,>=1.21.1 in /usr/local/lib/python3.10/dist-packages (from requests->gwpy) (2.0.7)\n",
            "Requirement already satisfied: certifi>=2017.4.17 in /usr/local/lib/python3.10/dist-packages (from requests->gwpy) (2024.7.4)\n",
            "Requirement already satisfied: pyOpenSSL in /usr/local/lib/python3.10/dist-packages (from lscsoft-glue->lalsuite) (24.1.0)\n",
            "Requirement already satisfied: cryptography>=2.3 in /usr/local/lib/python3.10/dist-packages (from igwn-auth-utils>=0.3.1->gwdatafind>=1.1.0->gwpy) (42.0.8)\n",
            "Collecting safe-netrc>=1.0.0 (from igwn-auth-utils>=0.3.1->gwdatafind>=1.1.0->gwpy)\n",
            "  Downloading safe_netrc-1.0.1-py3-none-any.whl (10 kB)\n",
            "Collecting scitokens>=1.7.0 (from igwn-auth-utils>=0.3.1->gwdatafind>=1.1.0->gwpy)\n",
            "  Downloading scitokens-1.8.1-py3-none-any.whl (31 kB)\n",
            "Requirement already satisfied: cffi>=1.12 in /usr/local/lib/python3.10/dist-packages (from cryptography>=2.3->igwn-auth-utils>=0.3.1->gwdatafind>=1.1.0->gwpy) (1.16.0)\n",
            "Requirement already satisfied: PyJWT>=1.6.1 in /usr/lib/python3/dist-packages (from scitokens>=1.7.0->igwn-auth-utils>=0.3.1->gwdatafind>=1.1.0->gwpy) (2.3.0)\n",
            "Requirement already satisfied: pycparser in /usr/local/lib/python3.10/dist-packages (from cffi>=1.12->cryptography>=2.3->igwn-auth-utils>=0.3.1->gwdatafind>=1.1.0->gwpy) (2.22)\n",
            "Building wheels for collected packages: ligo-segments\n",
            "  Building wheel for ligo-segments (setup.py) ... \u001b[?25l\u001b[?25hdone\n",
            "  Created wheel for ligo-segments: filename=ligo_segments-1.4.0-cp310-cp310-linux_x86_64.whl size=99254 sha256=2d39591630ebd21e2a90a45c7685493b22ad1515fc71638f2eb7c5f03762aafe\n",
            "  Stored in directory: /root/.cache/pip/wheels/6d/48/d1/3466977be4e41ba57f92ad0d5619f083df43cf319a151c4e06\n",
            "Successfully built ligo-segments\n",
            "Installing collected packages: safe-netrc, ligotimegps, ligo-segments, gwosc, dateparser, scitokens, lscsoft-glue, igwn-auth-utils, lalsuite, gwdatafind, dqsegdb2, gwpy\n",
            "Successfully installed dateparser-1.2.0 dqsegdb2-1.2.1 gwdatafind-1.2.0 gwosc-0.7.1 gwpy-3.0.9 igwn-auth-utils-1.1.0 lalsuite-7.22 ligo-segments-1.4.0 ligotimegps-2.0.1 lscsoft-glue-4.0.0 safe-netrc-1.0.1 scitokens-1.8.1\n"
          ]
        }
      ]
    }
  ]
}